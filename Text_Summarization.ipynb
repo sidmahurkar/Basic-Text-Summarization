{
  "nbformat": 4,
  "nbformat_minor": 0,
  "metadata": {
    "colab": {
      "name": "Text Summarization.ipynb",
      "version": "0.3.2",
      "provenance": [],
      "collapsed_sections": []
    },
    "kernelspec": {
      "name": "python3",
      "display_name": "Python 3"
    },
    "accelerator": "GPU"
  },
  "cells": [
    {
      "cell_type": "code",
      "metadata": {
        "id": "vtAgFS-hRIdp",
        "colab_type": "code",
        "colab": {}
      },
      "source": [
        "## Minor Project\n",
        "## Siddhant Mahurkar\n",
        "## sid.mahurkar@outlook.com"
      ],
      "execution_count": 0,
      "outputs": []
    },
    {
      "cell_type": "code",
      "metadata": {
        "id": "Qsai364wRUhf",
        "colab_type": "code",
        "colab": {
          "base_uri": "https://localhost:8080/",
          "height": 70
        },
        "outputId": "753cb7b3-3e8b-4491-e282-93d59fb4b16b"
      },
      "source": [
        "# importing the required library\n",
        "import nltk\n",
        "import numpy as np\n",
        "import pandas as pd\n",
        "nltk.download('punkt')"
      ],
      "execution_count": 9,
      "outputs": [
        {
          "output_type": "stream",
          "text": [
            "[nltk_data] Downloading package punkt to /root/nltk_data...\n",
            "[nltk_data]   Unzipping tokenizers/punkt.zip.\n"
          ],
          "name": "stdout"
        },
        {
          "output_type": "execute_result",
          "data": {
            "text/plain": [
              "True"
            ]
          },
          "metadata": {
            "tags": []
          },
          "execution_count": 9
        }
      ]
    },
    {
      "cell_type": "code",
      "metadata": {
        "id": "ft3-QbqHWUxL",
        "colab_type": "code",
        "colab": {}
      },
      "source": [
        "from nltk.tokenize import word_tokenize"
      ],
      "execution_count": 0,
      "outputs": []
    },
    {
      "cell_type": "code",
      "metadata": {
        "id": "BQlMMPaFXC37",
        "colab_type": "code",
        "outputId": "259bcb16-f864-41b5-9916-3a31df26cf53",
        "colab": {
          "base_uri": "https://localhost:8080/",
          "height": 55
        }
      },
      "source": [
        "## GEtting data from the user\n",
        "data = input()"
      ],
      "execution_count": 20,
      "outputs": [
        {
          "output_type": "stream",
          "text": [
            "Facing a furore in Parliament over the issue, the government has clarified in no uncertain terms that Prime Minister Narendra Modi did not request U.S. President Donald Trump to “mediate or arbitrate” on the Kashmir issue, as Mr. Trump claimed on Monday. Addressing Parliament, External Affairs Minister S. Jaishankar said India remains committed to its policy of discussing all outstanding issues with Pakistan only bilaterally, and assured the House that Mr. Modi did not raise this with Mr. Trump at their recent meeting in Osaka during the G-20 summit. In making the claim that has been roundly denied by New Delhi, Mr. Trump breached several well-laid diplomatic protocols, including one against discussing privileged conversations with a leader, during a public conversation with another. Mr. Trump also said a “lot” of his talks with the Pakistan Prime Minister would focus on India and Afghanistan, an odd departure from the precept of putting bilateral issues to the fore, and being more discreet when discussing sensitive relations involving other countries. For New Delhi, it may be time to recognise that Mr. Trump’s comments are a sign of new realities in international diplomacy, where leaders care less about niceties and more about open communication. Mr. Modi will have to prepare accordingly for some plain-speaking when he visits the U.S. and meets with Mr. Trump, as he is expected to, in September this year.  In the short term, the government’s decision to address the claim by Mr. Trump will have nipped any repercussions in the bud. The government should pursue the issue through diplomatic channels with the U.S. government, and determine whether Mr. Trump made the comments out of confusion or deliberately. India has always opposed any suggestion of third-party mediation on Jammu and Kashmir; both the 1972 Shimla Agreement and the 1999 Lahore declaration included India’s and Pakistan’s commitment to resolving issues between them. It is unlikely that Mr. Modi would have spoken out of line with this policy, and the most charitable explanation for Mr. Trump’s new contention is that he mistook India’s appeal to the international community to hold Pakistan accountable for terror groups on its soil that carry out attacks in Kashmir, for a general desire for mediation. Mr. Trump’s comment in March that the U.S. successfully mediated for the release of captured fighter pilot Abhinandan by Pakistan may have even given him some hope that the U.S. could play a larger role on the Kashmir issue, and New Delhi would need to address that. A more worrying proposition is that Mr. Trump took the line favoured by his Pakistani interlocutors on Kashmir as a way of enhancing his own plans for a pullout from Afghanistan with Pakistan’s help on security and talks with the Taliban. While the damage from Mr. Trump’s words may not have a very lasting impact on India-U.S. ties, that from any rushed measures to force a resolution in Afghanistan will have far-reaching and lasting impact, including on India.\n"
          ],
          "name": "stdout"
        }
      ]
    },
    {
      "cell_type": "code",
      "metadata": {
        "id": "_is6EwvEb1jK",
        "colab_type": "code",
        "outputId": "1072d794-5da2-411f-dbde-1995263aeedb",
        "colab": {
          "base_uri": "https://localhost:8080/",
          "height": 35
        }
      },
      "source": [
        "# data type of data.\n",
        "print(type(data))"
      ],
      "execution_count": 21,
      "outputs": [
        {
          "output_type": "stream",
          "text": [
            "<class 'str'>\n"
          ],
          "name": "stdout"
        }
      ]
    },
    {
      "cell_type": "code",
      "metadata": {
        "id": "F3ahv8RiccyE",
        "colab_type": "code",
        "outputId": "6a116653-5697-4dc9-8cd8-7ae2bade704c",
        "colab": {
          "base_uri": "https://localhost:8080/",
          "height": 55
        }
      },
      "source": [
        "print(word_tokenize(data))"
      ],
      "execution_count": 22,
      "outputs": [
        {
          "output_type": "stream",
          "text": [
            "['Facing', 'a', 'furore', 'in', 'Parliament', 'over', 'the', 'issue', ',', 'the', 'government', 'has', 'clarified', 'in', 'no', 'uncertain', 'terms', 'that', 'Prime', 'Minister', 'Narendra', 'Modi', 'did', 'not', 'request', 'U.S.', 'President', 'Donald', 'Trump', 'to', '“', 'mediate', 'or', 'arbitrate', '”', 'on', 'the', 'Kashmir', 'issue', ',', 'as', 'Mr.', 'Trump', 'claimed', 'on', 'Monday', '.', 'Addressing', 'Parliament', ',', 'External', 'Affairs', 'Minister', 'S.', 'Jaishankar', 'said', 'India', 'remains', 'committed', 'to', 'its', 'policy', 'of', 'discussing', 'all', 'outstanding', 'issues', 'with', 'Pakistan', 'only', 'bilaterally', ',', 'and', 'assured', 'the', 'House', 'that', 'Mr.', 'Modi', 'did', 'not', 'raise', 'this', 'with', 'Mr.', 'Trump', 'at', 'their', 'recent', 'meeting', 'in', 'Osaka', 'during', 'the', 'G-20', 'summit', '.', 'In', 'making', 'the', 'claim', 'that', 'has', 'been', 'roundly', 'denied', 'by', 'New', 'Delhi', ',', 'Mr.', 'Trump', 'breached', 'several', 'well-laid', 'diplomatic', 'protocols', ',', 'including', 'one', 'against', 'discussing', 'privileged', 'conversations', 'with', 'a', 'leader', ',', 'during', 'a', 'public', 'conversation', 'with', 'another', '.', 'Mr.', 'Trump', 'also', 'said', 'a', '“', 'lot', '”', 'of', 'his', 'talks', 'with', 'the', 'Pakistan', 'Prime', 'Minister', 'would', 'focus', 'on', 'India', 'and', 'Afghanistan', ',', 'an', 'odd', 'departure', 'from', 'the', 'precept', 'of', 'putting', 'bilateral', 'issues', 'to', 'the', 'fore', ',', 'and', 'being', 'more', 'discreet', 'when', 'discussing', 'sensitive', 'relations', 'involving', 'other', 'countries', '.', 'For', 'New', 'Delhi', ',', 'it', 'may', 'be', 'time', 'to', 'recognise', 'that', 'Mr.', 'Trump', '’', 's', 'comments', 'are', 'a', 'sign', 'of', 'new', 'realities', 'in', 'international', 'diplomacy', ',', 'where', 'leaders', 'care', 'less', 'about', 'niceties', 'and', 'more', 'about', 'open', 'communication', '.', 'Mr.', 'Modi', 'will', 'have', 'to', 'prepare', 'accordingly', 'for', 'some', 'plain-speaking', 'when', 'he', 'visits', 'the', 'U.S.', 'and', 'meets', 'with', 'Mr.', 'Trump', ',', 'as', 'he', 'is', 'expected', 'to', ',', 'in', 'September', 'this', 'year', '.', 'In', 'the', 'short', 'term', ',', 'the', 'government', '’', 's', 'decision', 'to', 'address', 'the', 'claim', 'by', 'Mr.', 'Trump', 'will', 'have', 'nipped', 'any', 'repercussions', 'in', 'the', 'bud', '.', 'The', 'government', 'should', 'pursue', 'the', 'issue', 'through', 'diplomatic', 'channels', 'with', 'the', 'U.S.', 'government', ',', 'and', 'determine', 'whether', 'Mr.', 'Trump', 'made', 'the', 'comments', 'out', 'of', 'confusion', 'or', 'deliberately', '.', 'India', 'has', 'always', 'opposed', 'any', 'suggestion', 'of', 'third-party', 'mediation', 'on', 'Jammu', 'and', 'Kashmir', ';', 'both', 'the', '1972', 'Shimla', 'Agreement', 'and', 'the', '1999', 'Lahore', 'declaration', 'included', 'India', '’', 's', 'and', 'Pakistan', '’', 's', 'commitment', 'to', 'resolving', 'issues', 'between', 'them', '.', 'It', 'is', 'unlikely', 'that', 'Mr.', 'Modi', 'would', 'have', 'spoken', 'out', 'of', 'line', 'with', 'this', 'policy', ',', 'and', 'the', 'most', 'charitable', 'explanation', 'for', 'Mr.', 'Trump', '’', 's', 'new', 'contention', 'is', 'that', 'he', 'mistook', 'India', '’', 's', 'appeal', 'to', 'the', 'international', 'community', 'to', 'hold', 'Pakistan', 'accountable', 'for', 'terror', 'groups', 'on', 'its', 'soil', 'that', 'carry', 'out', 'attacks', 'in', 'Kashmir', ',', 'for', 'a', 'general', 'desire', 'for', 'mediation', '.', 'Mr.', 'Trump', '’', 's', 'comment', 'in', 'March', 'that', 'the', 'U.S.', 'successfully', 'mediated', 'for', 'the', 'release', 'of', 'captured', 'fighter', 'pilot', 'Abhinandan', 'by', 'Pakistan', 'may', 'have', 'even', 'given', 'him', 'some', 'hope', 'that', 'the', 'U.S.', 'could', 'play', 'a', 'larger', 'role', 'on', 'the', 'Kashmir', 'issue', ',', 'and', 'New', 'Delhi', 'would', 'need', 'to', 'address', 'that', '.', 'A', 'more', 'worrying', 'proposition', 'is', 'that', 'Mr.', 'Trump', 'took', 'the', 'line', 'favoured', 'by', 'his', 'Pakistani', 'interlocutors', 'on', 'Kashmir', 'as', 'a', 'way', 'of', 'enhancing', 'his', 'own', 'plans', 'for', 'a', 'pullout', 'from', 'Afghanistan', 'with', 'Pakistan', '’', 's', 'help', 'on', 'security', 'and', 'talks', 'with', 'the', 'Taliban', '.', 'While', 'the', 'damage', 'from', 'Mr.', 'Trump', '’', 's', 'words', 'may', 'not', 'have', 'a', 'very', 'lasting', 'impact', 'on', 'India-U.S.', 'ties', ',', 'that', 'from', 'any', 'rushed', 'measures', 'to', 'force', 'a', 'resolution', 'in', 'Afghanistan', 'will', 'have', 'far-reaching', 'and', 'lasting', 'impact', ',', 'including', 'on', 'India', '.']\n"
          ],
          "name": "stdout"
        }
      ]
    },
    {
      "cell_type": "code",
      "metadata": {
        "id": "RR1wnJNweYgy",
        "colab_type": "code",
        "outputId": "2e24c6a5-900d-4514-dcd5-1e5c4632828c",
        "colab": {
          "base_uri": "https://localhost:8080/",
          "height": 55
        }
      },
      "source": [
        "from nltk.tokenize import sent_tokenize\n",
        "print(sent_tokenize(data))"
      ],
      "execution_count": 23,
      "outputs": [
        {
          "output_type": "stream",
          "text": [
            "['Facing a furore in Parliament over the issue, the government has clarified in no uncertain terms that Prime Minister Narendra Modi did not request U.S. President Donald Trump to “mediate or arbitrate” on the Kashmir issue, as Mr. Trump claimed on Monday.', 'Addressing Parliament, External Affairs Minister S. Jaishankar said India remains committed to its policy of discussing all outstanding issues with Pakistan only bilaterally, and assured the House that Mr. Modi did not raise this with Mr. Trump at their recent meeting in Osaka during the G-20 summit.', 'In making the claim that has been roundly denied by New Delhi, Mr. Trump breached several well-laid diplomatic protocols, including one against discussing privileged conversations with a leader, during a public conversation with another.', 'Mr. Trump also said a “lot” of his talks with the Pakistan Prime Minister would focus on India and Afghanistan, an odd departure from the precept of putting bilateral issues to the fore, and being more discreet when discussing sensitive relations involving other countries.', 'For New Delhi, it may be time to recognise that Mr. Trump’s comments are a sign of new realities in international diplomacy, where leaders care less about niceties and more about open communication.', 'Mr. Modi will have to prepare accordingly for some plain-speaking when he visits the U.S. and meets with Mr. Trump, as he is expected to, in September this year.', 'In the short term, the government’s decision to address the claim by Mr. Trump will have nipped any repercussions in the bud.', 'The government should pursue the issue through diplomatic channels with the U.S. government, and determine whether Mr. Trump made the comments out of confusion or deliberately.', 'India has always opposed any suggestion of third-party mediation on Jammu and Kashmir; both the 1972 Shimla Agreement and the 1999 Lahore declaration included India’s and Pakistan’s commitment to resolving issues between them.', 'It is unlikely that Mr. Modi would have spoken out of line with this policy, and the most charitable explanation for Mr. Trump’s new contention is that he mistook India’s appeal to the international community to hold Pakistan accountable for terror groups on its soil that carry out attacks in Kashmir, for a general desire for mediation.', 'Mr. Trump’s comment in March that the U.S. successfully mediated for the release of captured fighter pilot Abhinandan by Pakistan may have even given him some hope that the U.S. could play a larger role on the Kashmir issue, and New Delhi would need to address that.', 'A more worrying proposition is that Mr. Trump took the line favoured by his Pakistani interlocutors on Kashmir as a way of enhancing his own plans for a pullout from Afghanistan with Pakistan’s help on security and talks with the Taliban.', 'While the damage from Mr. Trump’s words may not have a very lasting impact on India-U.S. ties, that from any rushed measures to force a resolution in Afghanistan will have far-reaching and lasting impact, including on India.']\n"
          ],
          "name": "stdout"
        }
      ]
    },
    {
      "cell_type": "code",
      "metadata": {
        "id": "jbVwf_A4erlG",
        "colab_type": "code",
        "outputId": "5d45aba8-e94d-45e6-cf15-f21dde50940c",
        "colab": {
          "base_uri": "https://localhost:8080/",
          "height": 1000
        }
      },
      "source": [
        "\n",
        "wordtokens = word_tokenize(data)\n",
        "count = dict()\n",
        "for word in wordtokens:\n",
        "  if word in count:\n",
        "    count[word] += 1\n",
        "  else:\n",
        "    count[word] = 1\n",
        "    \n",
        "for i,j in count.items():\n",
        "  print(\" {}:- is having a frequency of {} in the typed paragraph\".format(i,j))\n",
        "    \n"
      ],
      "execution_count": 24,
      "outputs": [
        {
          "output_type": "stream",
          "text": [
            " Facing:- is having a frequency of 1 in the typed paragraph\n",
            " a:- is having a frequency of 11 in the typed paragraph\n",
            " furore:- is having a frequency of 1 in the typed paragraph\n",
            " in:- is having a frequency of 9 in the typed paragraph\n",
            " Parliament:- is having a frequency of 2 in the typed paragraph\n",
            " over:- is having a frequency of 1 in the typed paragraph\n",
            " the:- is having a frequency of 28 in the typed paragraph\n",
            " issue:- is having a frequency of 4 in the typed paragraph\n",
            " ,:- is having a frequency of 20 in the typed paragraph\n",
            " government:- is having a frequency of 4 in the typed paragraph\n",
            " has:- is having a frequency of 3 in the typed paragraph\n",
            " clarified:- is having a frequency of 1 in the typed paragraph\n",
            " no:- is having a frequency of 1 in the typed paragraph\n",
            " uncertain:- is having a frequency of 1 in the typed paragraph\n",
            " terms:- is having a frequency of 1 in the typed paragraph\n",
            " that:- is having a frequency of 12 in the typed paragraph\n",
            " Prime:- is having a frequency of 2 in the typed paragraph\n",
            " Minister:- is having a frequency of 3 in the typed paragraph\n",
            " Narendra:- is having a frequency of 1 in the typed paragraph\n",
            " Modi:- is having a frequency of 4 in the typed paragraph\n",
            " did:- is having a frequency of 2 in the typed paragraph\n",
            " not:- is having a frequency of 3 in the typed paragraph\n",
            " request:- is having a frequency of 1 in the typed paragraph\n",
            " U.S.:- is having a frequency of 5 in the typed paragraph\n",
            " President:- is having a frequency of 1 in the typed paragraph\n",
            " Donald:- is having a frequency of 1 in the typed paragraph\n",
            " Trump:- is having a frequency of 13 in the typed paragraph\n",
            " to:- is having a frequency of 12 in the typed paragraph\n",
            " “:- is having a frequency of 2 in the typed paragraph\n",
            " mediate:- is having a frequency of 1 in the typed paragraph\n",
            " or:- is having a frequency of 2 in the typed paragraph\n",
            " arbitrate:- is having a frequency of 1 in the typed paragraph\n",
            " ”:- is having a frequency of 2 in the typed paragraph\n",
            " on:- is having a frequency of 10 in the typed paragraph\n",
            " Kashmir:- is having a frequency of 5 in the typed paragraph\n",
            " as:- is having a frequency of 3 in the typed paragraph\n",
            " Mr.:- is having a frequency of 15 in the typed paragraph\n",
            " claimed:- is having a frequency of 1 in the typed paragraph\n",
            " Monday:- is having a frequency of 1 in the typed paragraph\n",
            " .:- is having a frequency of 13 in the typed paragraph\n",
            " Addressing:- is having a frequency of 1 in the typed paragraph\n",
            " External:- is having a frequency of 1 in the typed paragraph\n",
            " Affairs:- is having a frequency of 1 in the typed paragraph\n",
            " S.:- is having a frequency of 1 in the typed paragraph\n",
            " Jaishankar:- is having a frequency of 1 in the typed paragraph\n",
            " said:- is having a frequency of 2 in the typed paragraph\n",
            " India:- is having a frequency of 6 in the typed paragraph\n",
            " remains:- is having a frequency of 1 in the typed paragraph\n",
            " committed:- is having a frequency of 1 in the typed paragraph\n",
            " its:- is having a frequency of 2 in the typed paragraph\n",
            " policy:- is having a frequency of 2 in the typed paragraph\n",
            " of:- is having a frequency of 9 in the typed paragraph\n",
            " discussing:- is having a frequency of 3 in the typed paragraph\n",
            " all:- is having a frequency of 1 in the typed paragraph\n",
            " outstanding:- is having a frequency of 1 in the typed paragraph\n",
            " issues:- is having a frequency of 3 in the typed paragraph\n",
            " with:- is having a frequency of 10 in the typed paragraph\n",
            " Pakistan:- is having a frequency of 6 in the typed paragraph\n",
            " only:- is having a frequency of 1 in the typed paragraph\n",
            " bilaterally:- is having a frequency of 1 in the typed paragraph\n",
            " and:- is having a frequency of 13 in the typed paragraph\n",
            " assured:- is having a frequency of 1 in the typed paragraph\n",
            " House:- is having a frequency of 1 in the typed paragraph\n",
            " raise:- is having a frequency of 1 in the typed paragraph\n",
            " this:- is having a frequency of 3 in the typed paragraph\n",
            " at:- is having a frequency of 1 in the typed paragraph\n",
            " their:- is having a frequency of 1 in the typed paragraph\n",
            " recent:- is having a frequency of 1 in the typed paragraph\n",
            " meeting:- is having a frequency of 1 in the typed paragraph\n",
            " Osaka:- is having a frequency of 1 in the typed paragraph\n",
            " during:- is having a frequency of 2 in the typed paragraph\n",
            " G-20:- is having a frequency of 1 in the typed paragraph\n",
            " summit:- is having a frequency of 1 in the typed paragraph\n",
            " In:- is having a frequency of 2 in the typed paragraph\n",
            " making:- is having a frequency of 1 in the typed paragraph\n",
            " claim:- is having a frequency of 2 in the typed paragraph\n",
            " been:- is having a frequency of 1 in the typed paragraph\n",
            " roundly:- is having a frequency of 1 in the typed paragraph\n",
            " denied:- is having a frequency of 1 in the typed paragraph\n",
            " by:- is having a frequency of 4 in the typed paragraph\n",
            " New:- is having a frequency of 3 in the typed paragraph\n",
            " Delhi:- is having a frequency of 3 in the typed paragraph\n",
            " breached:- is having a frequency of 1 in the typed paragraph\n",
            " several:- is having a frequency of 1 in the typed paragraph\n",
            " well-laid:- is having a frequency of 1 in the typed paragraph\n",
            " diplomatic:- is having a frequency of 2 in the typed paragraph\n",
            " protocols:- is having a frequency of 1 in the typed paragraph\n",
            " including:- is having a frequency of 2 in the typed paragraph\n",
            " one:- is having a frequency of 1 in the typed paragraph\n",
            " against:- is having a frequency of 1 in the typed paragraph\n",
            " privileged:- is having a frequency of 1 in the typed paragraph\n",
            " conversations:- is having a frequency of 1 in the typed paragraph\n",
            " leader:- is having a frequency of 1 in the typed paragraph\n",
            " public:- is having a frequency of 1 in the typed paragraph\n",
            " conversation:- is having a frequency of 1 in the typed paragraph\n",
            " another:- is having a frequency of 1 in the typed paragraph\n",
            " also:- is having a frequency of 1 in the typed paragraph\n",
            " lot:- is having a frequency of 1 in the typed paragraph\n",
            " his:- is having a frequency of 3 in the typed paragraph\n",
            " talks:- is having a frequency of 2 in the typed paragraph\n",
            " would:- is having a frequency of 3 in the typed paragraph\n",
            " focus:- is having a frequency of 1 in the typed paragraph\n",
            " Afghanistan:- is having a frequency of 3 in the typed paragraph\n",
            " an:- is having a frequency of 1 in the typed paragraph\n",
            " odd:- is having a frequency of 1 in the typed paragraph\n",
            " departure:- is having a frequency of 1 in the typed paragraph\n",
            " from:- is having a frequency of 4 in the typed paragraph\n",
            " precept:- is having a frequency of 1 in the typed paragraph\n",
            " putting:- is having a frequency of 1 in the typed paragraph\n",
            " bilateral:- is having a frequency of 1 in the typed paragraph\n",
            " fore:- is having a frequency of 1 in the typed paragraph\n",
            " being:- is having a frequency of 1 in the typed paragraph\n",
            " more:- is having a frequency of 3 in the typed paragraph\n",
            " discreet:- is having a frequency of 1 in the typed paragraph\n",
            " when:- is having a frequency of 2 in the typed paragraph\n",
            " sensitive:- is having a frequency of 1 in the typed paragraph\n",
            " relations:- is having a frequency of 1 in the typed paragraph\n",
            " involving:- is having a frequency of 1 in the typed paragraph\n",
            " other:- is having a frequency of 1 in the typed paragraph\n",
            " countries:- is having a frequency of 1 in the typed paragraph\n",
            " For:- is having a frequency of 1 in the typed paragraph\n",
            " it:- is having a frequency of 1 in the typed paragraph\n",
            " may:- is having a frequency of 3 in the typed paragraph\n",
            " be:- is having a frequency of 1 in the typed paragraph\n",
            " time:- is having a frequency of 1 in the typed paragraph\n",
            " recognise:- is having a frequency of 1 in the typed paragraph\n",
            " ’:- is having a frequency of 9 in the typed paragraph\n",
            " s:- is having a frequency of 9 in the typed paragraph\n",
            " comments:- is having a frequency of 2 in the typed paragraph\n",
            " are:- is having a frequency of 1 in the typed paragraph\n",
            " sign:- is having a frequency of 1 in the typed paragraph\n",
            " new:- is having a frequency of 2 in the typed paragraph\n",
            " realities:- is having a frequency of 1 in the typed paragraph\n",
            " international:- is having a frequency of 2 in the typed paragraph\n",
            " diplomacy:- is having a frequency of 1 in the typed paragraph\n",
            " where:- is having a frequency of 1 in the typed paragraph\n",
            " leaders:- is having a frequency of 1 in the typed paragraph\n",
            " care:- is having a frequency of 1 in the typed paragraph\n",
            " less:- is having a frequency of 1 in the typed paragraph\n",
            " about:- is having a frequency of 2 in the typed paragraph\n",
            " niceties:- is having a frequency of 1 in the typed paragraph\n",
            " open:- is having a frequency of 1 in the typed paragraph\n",
            " communication:- is having a frequency of 1 in the typed paragraph\n",
            " will:- is having a frequency of 3 in the typed paragraph\n",
            " have:- is having a frequency of 6 in the typed paragraph\n",
            " prepare:- is having a frequency of 1 in the typed paragraph\n",
            " accordingly:- is having a frequency of 1 in the typed paragraph\n",
            " for:- is having a frequency of 7 in the typed paragraph\n",
            " some:- is having a frequency of 2 in the typed paragraph\n",
            " plain-speaking:- is having a frequency of 1 in the typed paragraph\n",
            " he:- is having a frequency of 3 in the typed paragraph\n",
            " visits:- is having a frequency of 1 in the typed paragraph\n",
            " meets:- is having a frequency of 1 in the typed paragraph\n",
            " is:- is having a frequency of 4 in the typed paragraph\n",
            " expected:- is having a frequency of 1 in the typed paragraph\n",
            " September:- is having a frequency of 1 in the typed paragraph\n",
            " year:- is having a frequency of 1 in the typed paragraph\n",
            " short:- is having a frequency of 1 in the typed paragraph\n",
            " term:- is having a frequency of 1 in the typed paragraph\n",
            " decision:- is having a frequency of 1 in the typed paragraph\n",
            " address:- is having a frequency of 2 in the typed paragraph\n",
            " nipped:- is having a frequency of 1 in the typed paragraph\n",
            " any:- is having a frequency of 3 in the typed paragraph\n",
            " repercussions:- is having a frequency of 1 in the typed paragraph\n",
            " bud:- is having a frequency of 1 in the typed paragraph\n",
            " The:- is having a frequency of 1 in the typed paragraph\n",
            " should:- is having a frequency of 1 in the typed paragraph\n",
            " pursue:- is having a frequency of 1 in the typed paragraph\n",
            " through:- is having a frequency of 1 in the typed paragraph\n",
            " channels:- is having a frequency of 1 in the typed paragraph\n",
            " determine:- is having a frequency of 1 in the typed paragraph\n",
            " whether:- is having a frequency of 1 in the typed paragraph\n",
            " made:- is having a frequency of 1 in the typed paragraph\n",
            " out:- is having a frequency of 3 in the typed paragraph\n",
            " confusion:- is having a frequency of 1 in the typed paragraph\n",
            " deliberately:- is having a frequency of 1 in the typed paragraph\n",
            " always:- is having a frequency of 1 in the typed paragraph\n",
            " opposed:- is having a frequency of 1 in the typed paragraph\n",
            " suggestion:- is having a frequency of 1 in the typed paragraph\n",
            " third-party:- is having a frequency of 1 in the typed paragraph\n",
            " mediation:- is having a frequency of 2 in the typed paragraph\n",
            " Jammu:- is having a frequency of 1 in the typed paragraph\n",
            " ;:- is having a frequency of 1 in the typed paragraph\n",
            " both:- is having a frequency of 1 in the typed paragraph\n",
            " 1972:- is having a frequency of 1 in the typed paragraph\n",
            " Shimla:- is having a frequency of 1 in the typed paragraph\n",
            " Agreement:- is having a frequency of 1 in the typed paragraph\n",
            " 1999:- is having a frequency of 1 in the typed paragraph\n",
            " Lahore:- is having a frequency of 1 in the typed paragraph\n",
            " declaration:- is having a frequency of 1 in the typed paragraph\n",
            " included:- is having a frequency of 1 in the typed paragraph\n",
            " commitment:- is having a frequency of 1 in the typed paragraph\n",
            " resolving:- is having a frequency of 1 in the typed paragraph\n",
            " between:- is having a frequency of 1 in the typed paragraph\n",
            " them:- is having a frequency of 1 in the typed paragraph\n",
            " It:- is having a frequency of 1 in the typed paragraph\n",
            " unlikely:- is having a frequency of 1 in the typed paragraph\n",
            " spoken:- is having a frequency of 1 in the typed paragraph\n",
            " line:- is having a frequency of 2 in the typed paragraph\n",
            " most:- is having a frequency of 1 in the typed paragraph\n",
            " charitable:- is having a frequency of 1 in the typed paragraph\n",
            " explanation:- is having a frequency of 1 in the typed paragraph\n",
            " contention:- is having a frequency of 1 in the typed paragraph\n",
            " mistook:- is having a frequency of 1 in the typed paragraph\n",
            " appeal:- is having a frequency of 1 in the typed paragraph\n",
            " community:- is having a frequency of 1 in the typed paragraph\n",
            " hold:- is having a frequency of 1 in the typed paragraph\n",
            " accountable:- is having a frequency of 1 in the typed paragraph\n",
            " terror:- is having a frequency of 1 in the typed paragraph\n",
            " groups:- is having a frequency of 1 in the typed paragraph\n",
            " soil:- is having a frequency of 1 in the typed paragraph\n",
            " carry:- is having a frequency of 1 in the typed paragraph\n",
            " attacks:- is having a frequency of 1 in the typed paragraph\n",
            " general:- is having a frequency of 1 in the typed paragraph\n",
            " desire:- is having a frequency of 1 in the typed paragraph\n",
            " comment:- is having a frequency of 1 in the typed paragraph\n",
            " March:- is having a frequency of 1 in the typed paragraph\n",
            " successfully:- is having a frequency of 1 in the typed paragraph\n",
            " mediated:- is having a frequency of 1 in the typed paragraph\n",
            " release:- is having a frequency of 1 in the typed paragraph\n",
            " captured:- is having a frequency of 1 in the typed paragraph\n",
            " fighter:- is having a frequency of 1 in the typed paragraph\n",
            " pilot:- is having a frequency of 1 in the typed paragraph\n",
            " Abhinandan:- is having a frequency of 1 in the typed paragraph\n",
            " even:- is having a frequency of 1 in the typed paragraph\n",
            " given:- is having a frequency of 1 in the typed paragraph\n",
            " him:- is having a frequency of 1 in the typed paragraph\n",
            " hope:- is having a frequency of 1 in the typed paragraph\n",
            " could:- is having a frequency of 1 in the typed paragraph\n",
            " play:- is having a frequency of 1 in the typed paragraph\n",
            " larger:- is having a frequency of 1 in the typed paragraph\n",
            " role:- is having a frequency of 1 in the typed paragraph\n",
            " need:- is having a frequency of 1 in the typed paragraph\n",
            " A:- is having a frequency of 1 in the typed paragraph\n",
            " worrying:- is having a frequency of 1 in the typed paragraph\n",
            " proposition:- is having a frequency of 1 in the typed paragraph\n",
            " took:- is having a frequency of 1 in the typed paragraph\n",
            " favoured:- is having a frequency of 1 in the typed paragraph\n",
            " Pakistani:- is having a frequency of 1 in the typed paragraph\n",
            " interlocutors:- is having a frequency of 1 in the typed paragraph\n",
            " way:- is having a frequency of 1 in the typed paragraph\n",
            " enhancing:- is having a frequency of 1 in the typed paragraph\n",
            " own:- is having a frequency of 1 in the typed paragraph\n",
            " plans:- is having a frequency of 1 in the typed paragraph\n",
            " pullout:- is having a frequency of 1 in the typed paragraph\n",
            " help:- is having a frequency of 1 in the typed paragraph\n",
            " security:- is having a frequency of 1 in the typed paragraph\n",
            " Taliban:- is having a frequency of 1 in the typed paragraph\n",
            " While:- is having a frequency of 1 in the typed paragraph\n",
            " damage:- is having a frequency of 1 in the typed paragraph\n",
            " words:- is having a frequency of 1 in the typed paragraph\n",
            " very:- is having a frequency of 1 in the typed paragraph\n",
            " lasting:- is having a frequency of 2 in the typed paragraph\n",
            " impact:- is having a frequency of 2 in the typed paragraph\n",
            " India-U.S.:- is having a frequency of 1 in the typed paragraph\n",
            " ties:- is having a frequency of 1 in the typed paragraph\n",
            " rushed:- is having a frequency of 1 in the typed paragraph\n",
            " measures:- is having a frequency of 1 in the typed paragraph\n",
            " force:- is having a frequency of 1 in the typed paragraph\n",
            " resolution:- is having a frequency of 1 in the typed paragraph\n",
            " far-reaching:- is having a frequency of 1 in the typed paragraph\n"
          ],
          "name": "stdout"
        }
      ]
    },
    {
      "cell_type": "code",
      "metadata": {
        "id": "-s0tnYpesyr9",
        "colab_type": "code",
        "outputId": "055a0ba5-b42f-457c-b201-eaf222983257",
        "colab": {
          "base_uri": "https://localhost:8080/",
          "height": 1000
        }
      },
      "source": [
        "sent_tokens = sent_tokenize(data)\n",
        "sentences = dict()\n",
        "words = dict()\n",
        "k = 1\n",
        "for line in sent_tokens:\n",
        "  word_tokens = word_tokenize(line)\n",
        "  for word in word_tokens:\n",
        "    if word in words:\n",
        "      words[word] += 1\n",
        "    else:\n",
        "      words[word] = 1\n",
        "  for i,j in words.items():\n",
        "    print(\"Line - {}: {} has a frequency of {}\".format(k,i,j))\n",
        "  k+=1\n",
        "  words = dict()\n",
        "\n",
        "  \n",
        "   \n",
        "   \n",
        "  "
      ],
      "execution_count": 76,
      "outputs": [
        {
          "output_type": "stream",
          "text": [
            "Line - 1: Facing has a frequency of 1\n",
            "Line - 1: a has a frequency of 1\n",
            "Line - 1: furore has a frequency of 1\n",
            "Line - 1: in has a frequency of 2\n",
            "Line - 1: Parliament has a frequency of 1\n",
            "Line - 1: over has a frequency of 1\n",
            "Line - 1: the has a frequency of 3\n",
            "Line - 1: issue has a frequency of 2\n",
            "Line - 1: , has a frequency of 2\n",
            "Line - 1: government has a frequency of 1\n",
            "Line - 1: has has a frequency of 1\n",
            "Line - 1: clarified has a frequency of 1\n",
            "Line - 1: no has a frequency of 1\n",
            "Line - 1: uncertain has a frequency of 1\n",
            "Line - 1: terms has a frequency of 1\n",
            "Line - 1: that has a frequency of 1\n",
            "Line - 1: Prime has a frequency of 1\n",
            "Line - 1: Minister has a frequency of 1\n",
            "Line - 1: Narendra has a frequency of 1\n",
            "Line - 1: Modi has a frequency of 1\n",
            "Line - 1: did has a frequency of 1\n",
            "Line - 1: not has a frequency of 1\n",
            "Line - 1: request has a frequency of 1\n",
            "Line - 1: U.S. has a frequency of 1\n",
            "Line - 1: President has a frequency of 1\n",
            "Line - 1: Donald has a frequency of 1\n",
            "Line - 1: Trump has a frequency of 2\n",
            "Line - 1: to has a frequency of 1\n",
            "Line - 1: “ has a frequency of 1\n",
            "Line - 1: mediate has a frequency of 1\n",
            "Line - 1: or has a frequency of 1\n",
            "Line - 1: arbitrate has a frequency of 1\n",
            "Line - 1: ” has a frequency of 1\n",
            "Line - 1: on has a frequency of 2\n",
            "Line - 1: Kashmir has a frequency of 1\n",
            "Line - 1: as has a frequency of 1\n",
            "Line - 1: Mr. has a frequency of 1\n",
            "Line - 1: claimed has a frequency of 1\n",
            "Line - 1: Monday has a frequency of 1\n",
            "Line - 1: . has a frequency of 1\n",
            "Line - 2: Addressing has a frequency of 1\n",
            "Line - 2: Parliament has a frequency of 1\n",
            "Line - 2: , has a frequency of 2\n",
            "Line - 2: External has a frequency of 1\n",
            "Line - 2: Affairs has a frequency of 1\n",
            "Line - 2: Minister has a frequency of 1\n",
            "Line - 2: S. has a frequency of 1\n",
            "Line - 2: Jaishankar has a frequency of 1\n",
            "Line - 2: said has a frequency of 1\n",
            "Line - 2: India has a frequency of 1\n",
            "Line - 2: remains has a frequency of 1\n",
            "Line - 2: committed has a frequency of 1\n",
            "Line - 2: to has a frequency of 1\n",
            "Line - 2: its has a frequency of 1\n",
            "Line - 2: policy has a frequency of 1\n",
            "Line - 2: of has a frequency of 1\n",
            "Line - 2: discussing has a frequency of 1\n",
            "Line - 2: all has a frequency of 1\n",
            "Line - 2: outstanding has a frequency of 1\n",
            "Line - 2: issues has a frequency of 1\n",
            "Line - 2: with has a frequency of 2\n",
            "Line - 2: Pakistan has a frequency of 1\n",
            "Line - 2: only has a frequency of 1\n",
            "Line - 2: bilaterally has a frequency of 1\n",
            "Line - 2: and has a frequency of 1\n",
            "Line - 2: assured has a frequency of 1\n",
            "Line - 2: the has a frequency of 2\n",
            "Line - 2: House has a frequency of 1\n",
            "Line - 2: that has a frequency of 1\n",
            "Line - 2: Mr. has a frequency of 2\n",
            "Line - 2: Modi has a frequency of 1\n",
            "Line - 2: did has a frequency of 1\n",
            "Line - 2: not has a frequency of 1\n",
            "Line - 2: raise has a frequency of 1\n",
            "Line - 2: this has a frequency of 1\n",
            "Line - 2: Trump has a frequency of 1\n",
            "Line - 2: at has a frequency of 1\n",
            "Line - 2: their has a frequency of 1\n",
            "Line - 2: recent has a frequency of 1\n",
            "Line - 2: meeting has a frequency of 1\n",
            "Line - 2: in has a frequency of 1\n",
            "Line - 2: Osaka has a frequency of 1\n",
            "Line - 2: during has a frequency of 1\n",
            "Line - 2: G-20 has a frequency of 1\n",
            "Line - 2: summit has a frequency of 1\n",
            "Line - 2: . has a frequency of 1\n",
            "Line - 3: In has a frequency of 1\n",
            "Line - 3: making has a frequency of 1\n",
            "Line - 3: the has a frequency of 1\n",
            "Line - 3: claim has a frequency of 1\n",
            "Line - 3: that has a frequency of 1\n",
            "Line - 3: has has a frequency of 1\n",
            "Line - 3: been has a frequency of 1\n",
            "Line - 3: roundly has a frequency of 1\n",
            "Line - 3: denied has a frequency of 1\n",
            "Line - 3: by has a frequency of 1\n",
            "Line - 3: New has a frequency of 1\n",
            "Line - 3: Delhi has a frequency of 1\n",
            "Line - 3: , has a frequency of 3\n",
            "Line - 3: Mr. has a frequency of 1\n",
            "Line - 3: Trump has a frequency of 1\n",
            "Line - 3: breached has a frequency of 1\n",
            "Line - 3: several has a frequency of 1\n",
            "Line - 3: well-laid has a frequency of 1\n",
            "Line - 3: diplomatic has a frequency of 1\n",
            "Line - 3: protocols has a frequency of 1\n",
            "Line - 3: including has a frequency of 1\n",
            "Line - 3: one has a frequency of 1\n",
            "Line - 3: against has a frequency of 1\n",
            "Line - 3: discussing has a frequency of 1\n",
            "Line - 3: privileged has a frequency of 1\n",
            "Line - 3: conversations has a frequency of 1\n",
            "Line - 3: with has a frequency of 2\n",
            "Line - 3: a has a frequency of 2\n",
            "Line - 3: leader has a frequency of 1\n",
            "Line - 3: during has a frequency of 1\n",
            "Line - 3: public has a frequency of 1\n",
            "Line - 3: conversation has a frequency of 1\n",
            "Line - 3: another has a frequency of 1\n",
            "Line - 3: . has a frequency of 1\n",
            "Line - 4: Mr. has a frequency of 1\n",
            "Line - 4: Trump has a frequency of 1\n",
            "Line - 4: also has a frequency of 1\n",
            "Line - 4: said has a frequency of 1\n",
            "Line - 4: a has a frequency of 1\n",
            "Line - 4: “ has a frequency of 1\n",
            "Line - 4: lot has a frequency of 1\n",
            "Line - 4: ” has a frequency of 1\n",
            "Line - 4: of has a frequency of 2\n",
            "Line - 4: his has a frequency of 1\n",
            "Line - 4: talks has a frequency of 1\n",
            "Line - 4: with has a frequency of 1\n",
            "Line - 4: the has a frequency of 3\n",
            "Line - 4: Pakistan has a frequency of 1\n",
            "Line - 4: Prime has a frequency of 1\n",
            "Line - 4: Minister has a frequency of 1\n",
            "Line - 4: would has a frequency of 1\n",
            "Line - 4: focus has a frequency of 1\n",
            "Line - 4: on has a frequency of 1\n",
            "Line - 4: India has a frequency of 1\n",
            "Line - 4: and has a frequency of 2\n",
            "Line - 4: Afghanistan has a frequency of 1\n",
            "Line - 4: , has a frequency of 2\n",
            "Line - 4: an has a frequency of 1\n",
            "Line - 4: odd has a frequency of 1\n",
            "Line - 4: departure has a frequency of 1\n",
            "Line - 4: from has a frequency of 1\n",
            "Line - 4: precept has a frequency of 1\n",
            "Line - 4: putting has a frequency of 1\n",
            "Line - 4: bilateral has a frequency of 1\n",
            "Line - 4: issues has a frequency of 1\n",
            "Line - 4: to has a frequency of 1\n",
            "Line - 4: fore has a frequency of 1\n",
            "Line - 4: being has a frequency of 1\n",
            "Line - 4: more has a frequency of 1\n",
            "Line - 4: discreet has a frequency of 1\n",
            "Line - 4: when has a frequency of 1\n",
            "Line - 4: discussing has a frequency of 1\n",
            "Line - 4: sensitive has a frequency of 1\n",
            "Line - 4: relations has a frequency of 1\n",
            "Line - 4: involving has a frequency of 1\n",
            "Line - 4: other has a frequency of 1\n",
            "Line - 4: countries has a frequency of 1\n",
            "Line - 4: . has a frequency of 1\n",
            "Line - 5: For has a frequency of 1\n",
            "Line - 5: New has a frequency of 1\n",
            "Line - 5: Delhi has a frequency of 1\n",
            "Line - 5: , has a frequency of 2\n",
            "Line - 5: it has a frequency of 1\n",
            "Line - 5: may has a frequency of 1\n",
            "Line - 5: be has a frequency of 1\n",
            "Line - 5: time has a frequency of 1\n",
            "Line - 5: to has a frequency of 1\n",
            "Line - 5: recognise has a frequency of 1\n",
            "Line - 5: that has a frequency of 1\n",
            "Line - 5: Mr. has a frequency of 1\n",
            "Line - 5: Trump has a frequency of 1\n",
            "Line - 5: ’ has a frequency of 1\n",
            "Line - 5: s has a frequency of 1\n",
            "Line - 5: comments has a frequency of 1\n",
            "Line - 5: are has a frequency of 1\n",
            "Line - 5: a has a frequency of 1\n",
            "Line - 5: sign has a frequency of 1\n",
            "Line - 5: of has a frequency of 1\n",
            "Line - 5: new has a frequency of 1\n",
            "Line - 5: realities has a frequency of 1\n",
            "Line - 5: in has a frequency of 1\n",
            "Line - 5: international has a frequency of 1\n",
            "Line - 5: diplomacy has a frequency of 1\n",
            "Line - 5: where has a frequency of 1\n",
            "Line - 5: leaders has a frequency of 1\n",
            "Line - 5: care has a frequency of 1\n",
            "Line - 5: less has a frequency of 1\n",
            "Line - 5: about has a frequency of 2\n",
            "Line - 5: niceties has a frequency of 1\n",
            "Line - 5: and has a frequency of 1\n",
            "Line - 5: more has a frequency of 1\n",
            "Line - 5: open has a frequency of 1\n",
            "Line - 5: communication has a frequency of 1\n",
            "Line - 5: . has a frequency of 1\n",
            "Line - 6: Mr. has a frequency of 2\n",
            "Line - 6: Modi has a frequency of 1\n",
            "Line - 6: will has a frequency of 1\n",
            "Line - 6: have has a frequency of 1\n",
            "Line - 6: to has a frequency of 2\n",
            "Line - 6: prepare has a frequency of 1\n",
            "Line - 6: accordingly has a frequency of 1\n",
            "Line - 6: for has a frequency of 1\n",
            "Line - 6: some has a frequency of 1\n",
            "Line - 6: plain-speaking has a frequency of 1\n",
            "Line - 6: when has a frequency of 1\n",
            "Line - 6: he has a frequency of 2\n",
            "Line - 6: visits has a frequency of 1\n",
            "Line - 6: the has a frequency of 1\n",
            "Line - 6: U.S. has a frequency of 1\n",
            "Line - 6: and has a frequency of 1\n",
            "Line - 6: meets has a frequency of 1\n",
            "Line - 6: with has a frequency of 1\n",
            "Line - 6: Trump has a frequency of 1\n",
            "Line - 6: , has a frequency of 2\n",
            "Line - 6: as has a frequency of 1\n",
            "Line - 6: is has a frequency of 1\n",
            "Line - 6: expected has a frequency of 1\n",
            "Line - 6: in has a frequency of 1\n",
            "Line - 6: September has a frequency of 1\n",
            "Line - 6: this has a frequency of 1\n",
            "Line - 6: year has a frequency of 1\n",
            "Line - 6: . has a frequency of 1\n",
            "Line - 7: In has a frequency of 1\n",
            "Line - 7: the has a frequency of 4\n",
            "Line - 7: short has a frequency of 1\n",
            "Line - 7: term has a frequency of 1\n",
            "Line - 7: , has a frequency of 1\n",
            "Line - 7: government has a frequency of 1\n",
            "Line - 7: ’ has a frequency of 1\n",
            "Line - 7: s has a frequency of 1\n",
            "Line - 7: decision has a frequency of 1\n",
            "Line - 7: to has a frequency of 1\n",
            "Line - 7: address has a frequency of 1\n",
            "Line - 7: claim has a frequency of 1\n",
            "Line - 7: by has a frequency of 1\n",
            "Line - 7: Mr. has a frequency of 1\n",
            "Line - 7: Trump has a frequency of 1\n",
            "Line - 7: will has a frequency of 1\n",
            "Line - 7: have has a frequency of 1\n",
            "Line - 7: nipped has a frequency of 1\n",
            "Line - 7: any has a frequency of 1\n",
            "Line - 7: repercussions has a frequency of 1\n",
            "Line - 7: in has a frequency of 1\n",
            "Line - 7: bud has a frequency of 1\n",
            "Line - 7: . has a frequency of 1\n",
            "Line - 8: The has a frequency of 1\n",
            "Line - 8: government has a frequency of 2\n",
            "Line - 8: should has a frequency of 1\n",
            "Line - 8: pursue has a frequency of 1\n",
            "Line - 8: the has a frequency of 3\n",
            "Line - 8: issue has a frequency of 1\n",
            "Line - 8: through has a frequency of 1\n",
            "Line - 8: diplomatic has a frequency of 1\n",
            "Line - 8: channels has a frequency of 1\n",
            "Line - 8: with has a frequency of 1\n",
            "Line - 8: U.S. has a frequency of 1\n",
            "Line - 8: , has a frequency of 1\n",
            "Line - 8: and has a frequency of 1\n",
            "Line - 8: determine has a frequency of 1\n",
            "Line - 8: whether has a frequency of 1\n",
            "Line - 8: Mr. has a frequency of 1\n",
            "Line - 8: Trump has a frequency of 1\n",
            "Line - 8: made has a frequency of 1\n",
            "Line - 8: comments has a frequency of 1\n",
            "Line - 8: out has a frequency of 1\n",
            "Line - 8: of has a frequency of 1\n",
            "Line - 8: confusion has a frequency of 1\n",
            "Line - 8: or has a frequency of 1\n",
            "Line - 8: deliberately has a frequency of 1\n",
            "Line - 8: . has a frequency of 1\n",
            "Line - 9: India has a frequency of 2\n",
            "Line - 9: has has a frequency of 1\n",
            "Line - 9: always has a frequency of 1\n",
            "Line - 9: opposed has a frequency of 1\n",
            "Line - 9: any has a frequency of 1\n",
            "Line - 9: suggestion has a frequency of 1\n",
            "Line - 9: of has a frequency of 1\n",
            "Line - 9: third-party has a frequency of 1\n",
            "Line - 9: mediation has a frequency of 1\n",
            "Line - 9: on has a frequency of 1\n",
            "Line - 9: Jammu has a frequency of 1\n",
            "Line - 9: and has a frequency of 3\n",
            "Line - 9: Kashmir has a frequency of 1\n",
            "Line - 9: ; has a frequency of 1\n",
            "Line - 9: both has a frequency of 1\n",
            "Line - 9: the has a frequency of 2\n",
            "Line - 9: 1972 has a frequency of 1\n",
            "Line - 9: Shimla has a frequency of 1\n",
            "Line - 9: Agreement has a frequency of 1\n",
            "Line - 9: 1999 has a frequency of 1\n",
            "Line - 9: Lahore has a frequency of 1\n",
            "Line - 9: declaration has a frequency of 1\n",
            "Line - 9: included has a frequency of 1\n",
            "Line - 9: ’ has a frequency of 2\n",
            "Line - 9: s has a frequency of 2\n",
            "Line - 9: Pakistan has a frequency of 1\n",
            "Line - 9: commitment has a frequency of 1\n",
            "Line - 9: to has a frequency of 1\n",
            "Line - 9: resolving has a frequency of 1\n",
            "Line - 9: issues has a frequency of 1\n",
            "Line - 9: between has a frequency of 1\n",
            "Line - 9: them has a frequency of 1\n",
            "Line - 9: . has a frequency of 1\n",
            "Line - 10: It has a frequency of 1\n",
            "Line - 10: is has a frequency of 2\n",
            "Line - 10: unlikely has a frequency of 1\n",
            "Line - 10: that has a frequency of 3\n",
            "Line - 10: Mr. has a frequency of 2\n",
            "Line - 10: Modi has a frequency of 1\n",
            "Line - 10: would has a frequency of 1\n",
            "Line - 10: have has a frequency of 1\n",
            "Line - 10: spoken has a frequency of 1\n",
            "Line - 10: out has a frequency of 2\n",
            "Line - 10: of has a frequency of 1\n",
            "Line - 10: line has a frequency of 1\n",
            "Line - 10: with has a frequency of 1\n",
            "Line - 10: this has a frequency of 1\n",
            "Line - 10: policy has a frequency of 1\n",
            "Line - 10: , has a frequency of 2\n",
            "Line - 10: and has a frequency of 1\n",
            "Line - 10: the has a frequency of 2\n",
            "Line - 10: most has a frequency of 1\n",
            "Line - 10: charitable has a frequency of 1\n",
            "Line - 10: explanation has a frequency of 1\n",
            "Line - 10: for has a frequency of 4\n",
            "Line - 10: Trump has a frequency of 1\n",
            "Line - 10: ’ has a frequency of 2\n",
            "Line - 10: s has a frequency of 2\n",
            "Line - 10: new has a frequency of 1\n",
            "Line - 10: contention has a frequency of 1\n",
            "Line - 10: he has a frequency of 1\n",
            "Line - 10: mistook has a frequency of 1\n",
            "Line - 10: India has a frequency of 1\n",
            "Line - 10: appeal has a frequency of 1\n",
            "Line - 10: to has a frequency of 2\n",
            "Line - 10: international has a frequency of 1\n",
            "Line - 10: community has a frequency of 1\n",
            "Line - 10: hold has a frequency of 1\n",
            "Line - 10: Pakistan has a frequency of 1\n",
            "Line - 10: accountable has a frequency of 1\n",
            "Line - 10: terror has a frequency of 1\n",
            "Line - 10: groups has a frequency of 1\n",
            "Line - 10: on has a frequency of 1\n",
            "Line - 10: its has a frequency of 1\n",
            "Line - 10: soil has a frequency of 1\n",
            "Line - 10: carry has a frequency of 1\n",
            "Line - 10: attacks has a frequency of 1\n",
            "Line - 10: in has a frequency of 1\n",
            "Line - 10: Kashmir has a frequency of 1\n",
            "Line - 10: a has a frequency of 1\n",
            "Line - 10: general has a frequency of 1\n",
            "Line - 10: desire has a frequency of 1\n",
            "Line - 10: mediation has a frequency of 1\n",
            "Line - 10: . has a frequency of 1\n",
            "Line - 11: Mr. has a frequency of 1\n",
            "Line - 11: Trump has a frequency of 1\n",
            "Line - 11: ’ has a frequency of 1\n",
            "Line - 11: s has a frequency of 1\n",
            "Line - 11: comment has a frequency of 1\n",
            "Line - 11: in has a frequency of 1\n",
            "Line - 11: March has a frequency of 1\n",
            "Line - 11: that has a frequency of 3\n",
            "Line - 11: the has a frequency of 4\n",
            "Line - 11: U.S. has a frequency of 2\n",
            "Line - 11: successfully has a frequency of 1\n",
            "Line - 11: mediated has a frequency of 1\n",
            "Line - 11: for has a frequency of 1\n",
            "Line - 11: release has a frequency of 1\n",
            "Line - 11: of has a frequency of 1\n",
            "Line - 11: captured has a frequency of 1\n",
            "Line - 11: fighter has a frequency of 1\n",
            "Line - 11: pilot has a frequency of 1\n",
            "Line - 11: Abhinandan has a frequency of 1\n",
            "Line - 11: by has a frequency of 1\n",
            "Line - 11: Pakistan has a frequency of 1\n",
            "Line - 11: may has a frequency of 1\n",
            "Line - 11: have has a frequency of 1\n",
            "Line - 11: even has a frequency of 1\n",
            "Line - 11: given has a frequency of 1\n",
            "Line - 11: him has a frequency of 1\n",
            "Line - 11: some has a frequency of 1\n",
            "Line - 11: hope has a frequency of 1\n",
            "Line - 11: could has a frequency of 1\n",
            "Line - 11: play has a frequency of 1\n",
            "Line - 11: a has a frequency of 1\n",
            "Line - 11: larger has a frequency of 1\n",
            "Line - 11: role has a frequency of 1\n",
            "Line - 11: on has a frequency of 1\n",
            "Line - 11: Kashmir has a frequency of 1\n",
            "Line - 11: issue has a frequency of 1\n",
            "Line - 11: , has a frequency of 1\n",
            "Line - 11: and has a frequency of 1\n",
            "Line - 11: New has a frequency of 1\n",
            "Line - 11: Delhi has a frequency of 1\n",
            "Line - 11: would has a frequency of 1\n",
            "Line - 11: need has a frequency of 1\n",
            "Line - 11: to has a frequency of 1\n",
            "Line - 11: address has a frequency of 1\n",
            "Line - 11: . has a frequency of 1\n",
            "Line - 12: A has a frequency of 1\n",
            "Line - 12: more has a frequency of 1\n",
            "Line - 12: worrying has a frequency of 1\n",
            "Line - 12: proposition has a frequency of 1\n",
            "Line - 12: is has a frequency of 1\n",
            "Line - 12: that has a frequency of 1\n",
            "Line - 12: Mr. has a frequency of 1\n",
            "Line - 12: Trump has a frequency of 1\n",
            "Line - 12: took has a frequency of 1\n",
            "Line - 12: the has a frequency of 2\n",
            "Line - 12: line has a frequency of 1\n",
            "Line - 12: favoured has a frequency of 1\n",
            "Line - 12: by has a frequency of 1\n",
            "Line - 12: his has a frequency of 2\n",
            "Line - 12: Pakistani has a frequency of 1\n",
            "Line - 12: interlocutors has a frequency of 1\n",
            "Line - 12: on has a frequency of 2\n",
            "Line - 12: Kashmir has a frequency of 1\n",
            "Line - 12: as has a frequency of 1\n",
            "Line - 12: a has a frequency of 2\n",
            "Line - 12: way has a frequency of 1\n",
            "Line - 12: of has a frequency of 1\n",
            "Line - 12: enhancing has a frequency of 1\n",
            "Line - 12: own has a frequency of 1\n",
            "Line - 12: plans has a frequency of 1\n",
            "Line - 12: for has a frequency of 1\n",
            "Line - 12: pullout has a frequency of 1\n",
            "Line - 12: from has a frequency of 1\n",
            "Line - 12: Afghanistan has a frequency of 1\n",
            "Line - 12: with has a frequency of 2\n",
            "Line - 12: Pakistan has a frequency of 1\n",
            "Line - 12: ’ has a frequency of 1\n",
            "Line - 12: s has a frequency of 1\n",
            "Line - 12: help has a frequency of 1\n",
            "Line - 12: security has a frequency of 1\n",
            "Line - 12: and has a frequency of 1\n",
            "Line - 12: talks has a frequency of 1\n",
            "Line - 12: Taliban has a frequency of 1\n",
            "Line - 12: . has a frequency of 1\n",
            "Line - 13: While has a frequency of 1\n",
            "Line - 13: the has a frequency of 1\n",
            "Line - 13: damage has a frequency of 1\n",
            "Line - 13: from has a frequency of 2\n",
            "Line - 13: Mr. has a frequency of 1\n",
            "Line - 13: Trump has a frequency of 1\n",
            "Line - 13: ’ has a frequency of 1\n",
            "Line - 13: s has a frequency of 1\n",
            "Line - 13: words has a frequency of 1\n",
            "Line - 13: may has a frequency of 1\n",
            "Line - 13: not has a frequency of 1\n",
            "Line - 13: have has a frequency of 2\n",
            "Line - 13: a has a frequency of 2\n",
            "Line - 13: very has a frequency of 1\n",
            "Line - 13: lasting has a frequency of 2\n",
            "Line - 13: impact has a frequency of 2\n",
            "Line - 13: on has a frequency of 2\n",
            "Line - 13: India-U.S. has a frequency of 1\n",
            "Line - 13: ties has a frequency of 1\n",
            "Line - 13: , has a frequency of 2\n",
            "Line - 13: that has a frequency of 1\n",
            "Line - 13: any has a frequency of 1\n",
            "Line - 13: rushed has a frequency of 1\n",
            "Line - 13: measures has a frequency of 1\n",
            "Line - 13: to has a frequency of 1\n",
            "Line - 13: force has a frequency of 1\n",
            "Line - 13: resolution has a frequency of 1\n",
            "Line - 13: in has a frequency of 1\n",
            "Line - 13: Afghanistan has a frequency of 1\n",
            "Line - 13: will has a frequency of 1\n",
            "Line - 13: far-reaching has a frequency of 1\n",
            "Line - 13: and has a frequency of 1\n",
            "Line - 13: including has a frequency of 1\n",
            "Line - 13: India has a frequency of 1\n",
            "Line - 13: . has a frequency of 1\n"
          ],
          "name": "stdout"
        }
      ]
    },
    {
      "cell_type": "code",
      "metadata": {
        "id": "PLK4tozbOerF",
        "colab_type": "code",
        "colab": {
          "base_uri": "https://localhost:8080/",
          "height": 55
        },
        "outputId": "416ac4df-5ace-4d04-80c4-f9de146b6073"
      },
      "source": [
        "## Split Into Sentences:\n",
        "# from nltk.tokenize import sent_tokenize\n",
        "# print(sent_tokenize(data))\n",
        "sentences = []\n",
        "for sent in sent_tokenize(data):\n",
        "  sentences.append(sent)\n",
        "print(sentences)\n"
      ],
      "execution_count": 92,
      "outputs": [
        {
          "output_type": "stream",
          "text": [
            "['Facing a furore in Parliament over the issue, the government has clarified in no uncertain terms that Prime Minister Narendra Modi did not request U.S. President Donald Trump to “mediate or arbitrate” on the Kashmir issue, as Mr. Trump claimed on Monday.', 'Addressing Parliament, External Affairs Minister S. Jaishankar said India remains committed to its policy of discussing all outstanding issues with Pakistan only bilaterally, and assured the House that Mr. Modi did not raise this with Mr. Trump at their recent meeting in Osaka during the G-20 summit.', 'In making the claim that has been roundly denied by New Delhi, Mr. Trump breached several well-laid diplomatic protocols, including one against discussing privileged conversations with a leader, during a public conversation with another.', 'Mr. Trump also said a “lot” of his talks with the Pakistan Prime Minister would focus on India and Afghanistan, an odd departure from the precept of putting bilateral issues to the fore, and being more discreet when discussing sensitive relations involving other countries.', 'For New Delhi, it may be time to recognise that Mr. Trump’s comments are a sign of new realities in international diplomacy, where leaders care less about niceties and more about open communication.', 'Mr. Modi will have to prepare accordingly for some plain-speaking when he visits the U.S. and meets with Mr. Trump, as he is expected to, in September this year.', 'In the short term, the government’s decision to address the claim by Mr. Trump will have nipped any repercussions in the bud.', 'The government should pursue the issue through diplomatic channels with the U.S. government, and determine whether Mr. Trump made the comments out of confusion or deliberately.', 'India has always opposed any suggestion of third-party mediation on Jammu and Kashmir; both the 1972 Shimla Agreement and the 1999 Lahore declaration included India’s and Pakistan’s commitment to resolving issues between them.', 'It is unlikely that Mr. Modi would have spoken out of line with this policy, and the most charitable explanation for Mr. Trump’s new contention is that he mistook India’s appeal to the international community to hold Pakistan accountable for terror groups on its soil that carry out attacks in Kashmir, for a general desire for mediation.', 'Mr. Trump’s comment in March that the U.S. successfully mediated for the release of captured fighter pilot Abhinandan by Pakistan may have even given him some hope that the U.S. could play a larger role on the Kashmir issue, and New Delhi would need to address that.', 'A more worrying proposition is that Mr. Trump took the line favoured by his Pakistani interlocutors on Kashmir as a way of enhancing his own plans for a pullout from Afghanistan with Pakistan’s help on security and talks with the Taliban.', 'While the damage from Mr. Trump’s words may not have a very lasting impact on India-U.S. ties, that from any rushed measures to force a resolution in Afghanistan will have far-reaching and lasting impact, including on India.']\n"
          ],
          "name": "stdout"
        }
      ]
    },
    {
      "cell_type": "code",
      "metadata": {
        "id": "MwJmxc1i0mAF",
        "colab_type": "code",
        "colab": {
          "base_uri": "https://localhost:8080/",
          "height": 126
        },
        "outputId": "4f28d9e2-5c46-4bce-e919-c8b4da233e24"
      },
      "source": [
        "sentences[:5]"
      ],
      "execution_count": 78,
      "outputs": [
        {
          "output_type": "execute_result",
          "data": {
            "text/plain": [
              "['Facing a furore in Parliament over the issue, the government has clarified in no uncertain terms that Prime Minister Narendra Modi did not request U.S. President Donald Trump to “mediate or arbitrate” on the Kashmir issue, as Mr. Trump claimed on Monday.',\n",
              " 'Addressing Parliament, External Affairs Minister S. Jaishankar said India remains committed to its policy of discussing all outstanding issues with Pakistan only bilaterally, and assured the House that Mr. Modi did not raise this with Mr. Trump at their recent meeting in Osaka during the G-20 summit.',\n",
              " 'In making the claim that has been roundly denied by New Delhi, Mr. Trump breached several well-laid diplomatic protocols, including one against discussing privileged conversations with a leader, during a public conversation with another.',\n",
              " 'Mr. Trump also said a “lot” of his talks with the Pakistan Prime Minister would focus on India and Afghanistan, an odd departure from the precept of putting bilateral issues to the fore, and being more discreet when discussing sensitive relations involving other countries.',\n",
              " 'For New Delhi, it may be time to recognise that Mr. Trump’s comments are a sign of new realities in international diplomacy, where leaders care less about niceties and more about open communication.']"
            ]
          },
          "metadata": {
            "tags": []
          },
          "execution_count": 78
        }
      ]
    },
    {
      "cell_type": "code",
      "metadata": {
        "id": "fzD7Oi77d8Yq",
        "colab_type": "code",
        "colab": {
          "base_uri": "https://localhost:8080/",
          "height": 55
        },
        "outputId": "1cf408f1-c104-4f4d-b7dd-cc970ee3c901"
      },
      "source": [
        "print(sentences)"
      ],
      "execution_count": 55,
      "outputs": [
        {
          "output_type": "stream",
          "text": [
            "['Facing a furore in Parliament over the issue, the government has clarified in no uncertain terms that Prime Minister Narendra Modi did not request U.S. President Donald Trump to “mediate or arbitrate” on the Kashmir issue, as Mr. Trump claimed on Monday.', 'Addressing Parliament, External Affairs Minister S. Jaishankar said India remains committed to its policy of discussing all outstanding issues with Pakistan only bilaterally, and assured the House that Mr. Modi did not raise this with Mr. Trump at their recent meeting in Osaka during the G-20 summit.', 'In making the claim that has been roundly denied by New Delhi, Mr. Trump breached several well-laid diplomatic protocols, including one against discussing privileged conversations with a leader, during a public conversation with another.', 'Mr. Trump also said a “lot” of his talks with the Pakistan Prime Minister would focus on India and Afghanistan, an odd departure from the precept of putting bilateral issues to the fore, and being more discreet when discussing sensitive relations involving other countries.', 'For New Delhi, it may be time to recognise that Mr. Trump’s comments are a sign of new realities in international diplomacy, where leaders care less about niceties and more about open communication.', 'Mr. Modi will have to prepare accordingly for some plain-speaking when he visits the U.S. and meets with Mr. Trump, as he is expected to, in September this year.', 'In the short term, the government’s decision to address the claim by Mr. Trump will have nipped any repercussions in the bud.', 'The government should pursue the issue through diplomatic channels with the U.S. government, and determine whether Mr. Trump made the comments out of confusion or deliberately.', 'India has always opposed any suggestion of third-party mediation on Jammu and Kashmir; both the 1972 Shimla Agreement and the 1999 Lahore declaration included India’s and Pakistan’s commitment to resolving issues between them.', 'It is unlikely that Mr. Modi would have spoken out of line with this policy, and the most charitable explanation for Mr. Trump’s new contention is that he mistook India’s appeal to the international community to hold Pakistan accountable for terror groups on its soil that carry out attacks in Kashmir, for a general desire for mediation.', 'Mr. Trump’s comment in March that the U.S. successfully mediated for the release of captured fighter pilot Abhinandan by Pakistan may have even given him some hope that the U.S. could play a larger role on the Kashmir issue, and New Delhi would need to address that.', 'A more worrying proposition is that Mr. Trump took the line favoured by his Pakistani interlocutors on Kashmir as a way of enhancing his own plans for a pullout from Afghanistan with Pakistan’s help on security and talks with the Taliban.', 'While the damage from Mr. Trump’s words may not have a very lasting impact on India-U.S. ties, that from any rushed measures to force a resolution in Afghanistan will have far-reaching and lasting impact, including on India.']\n"
          ],
          "name": "stdout"
        }
      ]
    },
    {
      "cell_type": "code",
      "metadata": {
        "id": "w4ALFw1afsS7",
        "colab_type": "code",
        "colab": {
          "base_uri": "https://localhost:8080/",
          "height": 35
        },
        "outputId": "0a5df6ca-1293-438e-add2-a6f6768a10b3"
      },
      "source": [
        "print(len(sentences))"
      ],
      "execution_count": 63,
      "outputs": [
        {
          "output_type": "stream",
          "text": [
            "13\n"
          ],
          "name": "stdout"
        }
      ]
    },
    {
      "cell_type": "code",
      "metadata": {
        "id": "vKSFcGC2L0fi",
        "colab_type": "code",
        "colab": {}
      },
      "source": [
        "## We use word embeddings to enhance the accuracy of the model. we can also use Tf-idf vectore but here we will use glove  word embeddings which map each word to a certain specific vector. "
      ],
      "execution_count": 0,
      "outputs": []
    },
    {
      "cell_type": "code",
      "metadata": {
        "id": "-1Wd_C5gE0U3",
        "colab_type": "code",
        "outputId": "f35bae50-b099-458c-ae28-a1c558da3098",
        "colab": {
          "base_uri": "https://localhost:8080/",
          "height": 461
        }
      },
      "source": [
        "!wget http://nlp.stanford.edu/data/glove.6B.zip\n",
        "!unzip glove*.zip"
      ],
      "execution_count": 17,
      "outputs": [
        {
          "output_type": "stream",
          "text": [
            "--2019-07-24 13:06:17--  http://nlp.stanford.edu/data/glove.6B.zip\n",
            "Resolving nlp.stanford.edu (nlp.stanford.edu)... 171.64.67.140\n",
            "Connecting to nlp.stanford.edu (nlp.stanford.edu)|171.64.67.140|:80... connected.\n",
            "HTTP request sent, awaiting response... 302 Found\n",
            "Location: https://nlp.stanford.edu/data/glove.6B.zip [following]\n",
            "--2019-07-24 13:06:17--  https://nlp.stanford.edu/data/glove.6B.zip\n",
            "Connecting to nlp.stanford.edu (nlp.stanford.edu)|171.64.67.140|:443... connected.\n",
            "HTTP request sent, awaiting response... 301 Moved Permanently\n",
            "Location: http://downloads.cs.stanford.edu/nlp/data/glove.6B.zip [following]\n",
            "--2019-07-24 13:06:18--  http://downloads.cs.stanford.edu/nlp/data/glove.6B.zip\n",
            "Resolving downloads.cs.stanford.edu (downloads.cs.stanford.edu)... 171.64.64.22\n",
            "Connecting to downloads.cs.stanford.edu (downloads.cs.stanford.edu)|171.64.64.22|:80... connected.\n",
            "HTTP request sent, awaiting response... 200 OK\n",
            "Length: 862182613 (822M) [application/zip]\n",
            "Saving to: ‘glove.6B.zip’\n",
            "\n",
            "glove.6B.zip        100%[===================>] 822.24M  19.2MB/s    in 44s     \n",
            "\n",
            "2019-07-24 13:07:02 (18.6 MB/s) - ‘glove.6B.zip’ saved [862182613/862182613]\n",
            "\n",
            "Archive:  glove.6B.zip\n",
            "  inflating: glove.6B.50d.txt        \n",
            "  inflating: glove.6B.100d.txt       \n",
            "  inflating: glove.6B.200d.txt       \n",
            "  inflating: glove.6B.300d.txt       \n"
          ],
          "name": "stdout"
        }
      ]
    },
    {
      "cell_type": "code",
      "metadata": {
        "id": "oyKckRkxLM6d",
        "colab_type": "code",
        "colab": {}
      },
      "source": [
        "# Extract word vectors\n",
        "word_embeddings = {}\n",
        "f = open('glove.6B.100d.txt', encoding='utf-8')\n",
        "for line in f:\n",
        "    values = line.split()\n",
        "    word = values[0]\n",
        "    coefs = np.asarray(values[1:], dtype='float32')\n",
        "    word_embeddings[word] = coefs\n",
        "f.close()"
      ],
      "execution_count": 0,
      "outputs": []
    },
    {
      "cell_type": "code",
      "metadata": {
        "id": "WIzKEruNMPx2",
        "colab_type": "code",
        "outputId": "5d53f007-d454-46fe-e6de-415d02137322",
        "colab": {
          "base_uri": "https://localhost:8080/",
          "height": 35
        }
      },
      "source": [
        "print(len(word_embeddings))"
      ],
      "execution_count": 28,
      "outputs": [
        {
          "output_type": "stream",
          "text": [
            "400000\n"
          ],
          "name": "stdout"
        }
      ]
    },
    {
      "cell_type": "code",
      "metadata": {
        "id": "eEZY-gabMj7s",
        "colab_type": "code",
        "colab": {
          "base_uri": "https://localhost:8080/",
          "height": 70
        },
        "outputId": "94dce549-1834-437d-a543-65c4eac29c31"
      },
      "source": [
        "nltk.download('stopwords')"
      ],
      "execution_count": 35,
      "outputs": [
        {
          "output_type": "stream",
          "text": [
            "[nltk_data] Downloading package stopwords to /root/nltk_data...\n",
            "[nltk_data]   Package stopwords is already up-to-date!\n"
          ],
          "name": "stdout"
        },
        {
          "output_type": "execute_result",
          "data": {
            "text/plain": [
              "True"
            ]
          },
          "metadata": {
            "tags": []
          },
          "execution_count": 35
        }
      ]
    },
    {
      "cell_type": "code",
      "metadata": {
        "id": "DRjjKS0ZNtdN",
        "colab_type": "code",
        "colab": {}
      },
      "source": [
        "## import the stopwords of nltk\n",
        "from nltk.corpus import stopwords\n",
        "stop_words = stopwords.words('english')"
      ],
      "execution_count": 0,
      "outputs": []
    },
    {
      "cell_type": "code",
      "metadata": {
        "id": "a9ECcTV3NzWe",
        "colab_type": "code",
        "colab": {}
      },
      "source": [
        "# function to remove stopwords\n",
        "def remove_stopwords(sen):\n",
        "    sen_new = \" \".join([i for i in sen if i not in stop_words])\n",
        "    return sen_new"
      ],
      "execution_count": 0,
      "outputs": []
    },
    {
      "cell_type": "code",
      "metadata": {
        "id": "e1NEiEgXN7DI",
        "colab_type": "code",
        "colab": {}
      },
      "source": [
        "\n",
        "\n",
        "# make alphabets lowercase\n",
        "clean_sentences = [s.lower() for s in sentences]"
      ],
      "execution_count": 0,
      "outputs": []
    },
    {
      "cell_type": "code",
      "metadata": {
        "id": "GhF_k83uxbBZ",
        "colab_type": "code",
        "colab": {
          "base_uri": "https://localhost:8080/",
          "height": 55
        },
        "outputId": "e6547bed-e34b-4535-cd36-a9b2b927e48d"
      },
      "source": [
        "print(clean_sentences)"
      ],
      "execution_count": 94,
      "outputs": [
        {
          "output_type": "stream",
          "text": [
            "['facing a furore in parliament over the issue, the government has clarified in no uncertain terms that prime minister narendra modi did not request u.s. president donald trump to “mediate or arbitrate” on the kashmir issue, as mr. trump claimed on monday.', 'addressing parliament, external affairs minister s. jaishankar said india remains committed to its policy of discussing all outstanding issues with pakistan only bilaterally, and assured the house that mr. modi did not raise this with mr. trump at their recent meeting in osaka during the g-20 summit.', 'in making the claim that has been roundly denied by new delhi, mr. trump breached several well-laid diplomatic protocols, including one against discussing privileged conversations with a leader, during a public conversation with another.', 'mr. trump also said a “lot” of his talks with the pakistan prime minister would focus on india and afghanistan, an odd departure from the precept of putting bilateral issues to the fore, and being more discreet when discussing sensitive relations involving other countries.', 'for new delhi, it may be time to recognise that mr. trump’s comments are a sign of new realities in international diplomacy, where leaders care less about niceties and more about open communication.', 'mr. modi will have to prepare accordingly for some plain-speaking when he visits the u.s. and meets with mr. trump, as he is expected to, in september this year.', 'in the short term, the government’s decision to address the claim by mr. trump will have nipped any repercussions in the bud.', 'the government should pursue the issue through diplomatic channels with the u.s. government, and determine whether mr. trump made the comments out of confusion or deliberately.', 'india has always opposed any suggestion of third-party mediation on jammu and kashmir; both the 1972 shimla agreement and the 1999 lahore declaration included india’s and pakistan’s commitment to resolving issues between them.', 'it is unlikely that mr. modi would have spoken out of line with this policy, and the most charitable explanation for mr. trump’s new contention is that he mistook india’s appeal to the international community to hold pakistan accountable for terror groups on its soil that carry out attacks in kashmir, for a general desire for mediation.', 'mr. trump’s comment in march that the u.s. successfully mediated for the release of captured fighter pilot abhinandan by pakistan may have even given him some hope that the u.s. could play a larger role on the kashmir issue, and new delhi would need to address that.', 'a more worrying proposition is that mr. trump took the line favoured by his pakistani interlocutors on kashmir as a way of enhancing his own plans for a pullout from afghanistan with pakistan’s help on security and talks with the taliban.', 'while the damage from mr. trump’s words may not have a very lasting impact on india-u.s. ties, that from any rushed measures to force a resolution in afghanistan will have far-reaching and lasting impact, including on india.']\n"
          ],
          "name": "stdout"
        }
      ]
    },
    {
      "cell_type": "code",
      "metadata": {
        "id": "XZB6TANUVFqK",
        "colab_type": "code",
        "colab": {}
      },
      "source": [
        "## final Preprocesssed paragraph\n",
        "clean_sentences = [remove_stopwords(r.split()) for r in clean_sentences]\n"
      ],
      "execution_count": 0,
      "outputs": []
    },
    {
      "cell_type": "code",
      "metadata": {
        "id": "r7hNIMrYwLEF",
        "colab_type": "code",
        "colab": {
          "base_uri": "https://localhost:8080/",
          "height": 55
        },
        "outputId": "ac787638-bb1f-45d1-e3cf-c35d0fb0f5ee"
      },
      "source": [
        "print(clean_sentences)"
      ],
      "execution_count": 96,
      "outputs": [
        {
          "output_type": "stream",
          "text": [
            "['facing furore parliament issue, government clarified uncertain terms prime minister narendra modi request u.s. president donald trump “mediate arbitrate” kashmir issue, mr. trump claimed monday.', 'addressing parliament, external affairs minister s. jaishankar said india remains committed policy discussing outstanding issues pakistan bilaterally, assured house mr. modi raise mr. trump recent meeting osaka g-20 summit.', 'making claim roundly denied new delhi, mr. trump breached several well-laid diplomatic protocols, including one discussing privileged conversations leader, public conversation another.', 'mr. trump also said “lot” talks pakistan prime minister would focus india afghanistan, odd departure precept putting bilateral issues fore, discreet discussing sensitive relations involving countries.', 'new delhi, may time recognise mr. trump’s comments sign new realities international diplomacy, leaders care less niceties open communication.', 'mr. modi prepare accordingly plain-speaking visits u.s. meets mr. trump, expected to, september year.', 'short term, government’s decision address claim mr. trump nipped repercussions bud.', 'government pursue issue diplomatic channels u.s. government, determine whether mr. trump made comments confusion deliberately.', 'india always opposed suggestion third-party mediation jammu kashmir; 1972 shimla agreement 1999 lahore declaration included india’s pakistan’s commitment resolving issues them.', 'unlikely mr. modi would spoken line policy, charitable explanation mr. trump’s new contention mistook india’s appeal international community hold pakistan accountable terror groups soil carry attacks kashmir, general desire mediation.', 'mr. trump’s comment march u.s. successfully mediated release captured fighter pilot abhinandan pakistan may even given hope u.s. could play larger role kashmir issue, new delhi would need address that.', 'worrying proposition mr. trump took line favoured pakistani interlocutors kashmir way enhancing plans pullout afghanistan pakistan’s help security talks taliban.', 'damage mr. trump’s words may lasting impact india-u.s. ties, rushed measures force resolution afghanistan far-reaching lasting impact, including india.']\n"
          ],
          "name": "stdout"
        }
      ]
    },
    {
      "cell_type": "code",
      "metadata": {
        "id": "bPQISXl8Vsjh",
        "colab_type": "code",
        "colab": {}
      },
      "source": [
        "## Now Our User Inputed Paragraph is ready to be given to pagerank algorithm to get the summary."
      ],
      "execution_count": 0,
      "outputs": []
    },
    {
      "cell_type": "code",
      "metadata": {
        "id": "LkQ2c7UyWP7_",
        "colab_type": "code",
        "colab": {}
      },
      "source": [
        "# Extract word vectors\n",
        "word_embeddings = {}\n",
        "f = open('glove.6B.100d.txt', encoding='utf-8')\n",
        "for line in f:\n",
        "    values = line.split()\n",
        "    word = values[0]\n",
        "    coefs = np.asarray(values[1:], dtype='float32')\n",
        "    word_embeddings[word] = coefs\n",
        "f.close()"
      ],
      "execution_count": 0,
      "outputs": []
    },
    {
      "cell_type": "code",
      "metadata": {
        "id": "UFT1XaONWgil",
        "colab_type": "code",
        "colab": {}
      },
      "source": [
        "sentence_vectors = []\n",
        "for i in clean_sentences:\n",
        "  if len(i) != 0:\n",
        "    v = sum([word_embeddings.get(w, np.zeros((100,))) for w in i.split()])/(len(i.split())+0.001)\n",
        "  else:\n",
        "    v = np.zeros((100,))\n",
        "  sentence_vectors.append(v)"
      ],
      "execution_count": 0,
      "outputs": []
    },
    {
      "cell_type": "code",
      "metadata": {
        "id": "ZrYPVhc8YlxK",
        "colab_type": "code",
        "colab": {}
      },
      "source": [
        "## Now we will use cosine similarity between the sentences\n",
        "# similarity matrix\n",
        "sim_mat = np.zeros([len(sentences), len(sentences)])"
      ],
      "execution_count": 0,
      "outputs": []
    },
    {
      "cell_type": "code",
      "metadata": {
        "id": "91RvmlnPbPi-",
        "colab_type": "code",
        "colab": {}
      },
      "source": [
        "## import similarity metric from sklearn\n",
        "from sklearn.metrics.pairwise import cosine_similarity\n",
        "for i in range(len(sentences)):\n",
        "  for j in range(len(sentences)):\n",
        "    if i != j:\n",
        "      sim_mat[i][j] = cosine_similarity(sentence_vectors[i].reshape(1,100), sentence_vectors[j].reshape(1,100))[0,0]\n"
      ],
      "execution_count": 0,
      "outputs": []
    },
    {
      "cell_type": "code",
      "metadata": {
        "id": "GxfWnsL1-gNB",
        "colab_type": "code",
        "colab": {}
      },
      "source": [
        "## Make a graph to use pagerank algorithm."
      ],
      "execution_count": 0,
      "outputs": []
    },
    {
      "cell_type": "code",
      "metadata": {
        "id": "vzXeOxfFceS3",
        "colab_type": "code",
        "colab": {}
      },
      "source": [
        "import networkx as nx\n",
        "\n",
        "nx_graph = nx.from_numpy_array(sim_mat)\n",
        "scores = nx.pagerank(nx_graph)"
      ],
      "execution_count": 0,
      "outputs": []
    },
    {
      "cell_type": "code",
      "metadata": {
        "id": "q-eAwJQnchZq",
        "colab_type": "code",
        "colab": {}
      },
      "source": [
        "ranked_sentences = sorted(((scores[i],s) for i,s in enumerate(sentences)), reverse=True)"
      ],
      "execution_count": 0,
      "outputs": []
    },
    {
      "cell_type": "code",
      "metadata": {
        "id": "5ZX05Pv3c3Ch",
        "colab_type": "code",
        "colab": {
          "base_uri": "https://localhost:8080/",
          "height": 72
        },
        "outputId": "76634bf2-bb39-41af-aeb5-1a82da909072"
      },
      "source": [
        "# Extract top 2 sentences as the summary\n",
        "for i in range(2):\n",
        "  print(ranked_sentences[i])"
      ],
      "execution_count": 108,
      "outputs": [
        {
          "output_type": "stream",
          "text": [
            "(0.0794879836604393, 'Mr. Trump also said a “lot” of his talks with the Pakistan Prime Minister would focus on India and Afghanistan, an odd departure from the precept of putting bilateral issues to the fore, and being more discreet when discussing sensitive relations involving other countries.')\n",
            "(0.07942943180346179, 'The government should pursue the issue through diplomatic channels with the U.S. government, and determine whether Mr. Trump made the comments out of confusion or deliberately.')\n"
          ],
          "name": "stdout"
        }
      ]
    },
    {
      "cell_type": "code",
      "metadata": {
        "id": "SLSFrzeTdtVG",
        "colab_type": "code",
        "colab": {}
      },
      "source": [
        "## There we Have it. The summary of the above paragraph described in 2 sentences. we can increase the number of sentences by extracting more number of sentences."
      ],
      "execution_count": 0,
      "outputs": []
    }
  ]
}